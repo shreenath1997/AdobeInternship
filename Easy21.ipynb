{
 "cells": [
  {
   "cell_type": "code",
   "execution_count": 1,
   "metadata": {},
   "outputs": [],
   "source": [
    "import numpy as np"
   ]
  },
  {
   "cell_type": "code",
   "execution_count": 9,
   "metadata": {},
   "outputs": [
    {
     "ename": "ModuleNotFoundError",
     "evalue": "No module named 'Random'",
     "output_type": "error",
     "traceback": [
      "\u001b[1;31m---------------------------------------------------------------------------\u001b[0m",
      "\u001b[1;31mModuleNotFoundError\u001b[0m                       Traceback (most recent call last)",
      "\u001b[1;32m<ipython-input-9-9078982925bf>\u001b[0m in \u001b[0;36m<module>\u001b[1;34m()\u001b[0m\n\u001b[1;32m----> 1\u001b[1;33m \u001b[1;32mimport\u001b[0m \u001b[0mRandom\u001b[0m\u001b[1;33m\u001b[0m\u001b[0m\n\u001b[0m",
      "\u001b[1;31mModuleNotFoundError\u001b[0m: No module named 'Random'"
     ]
    }
   ],
   "source": [
    "import random"
   ]
  },
  {
   "cell_type": "code",
   "execution_count": 108,
   "metadata": {},
   "outputs": [],
   "source": [
    "def initGame ():\n",
    "    dealer_sum=random.randint(1,10)\n",
    "    player_sum=random.randint(1,10)\n",
    "    state=(dealer_sum,player_sum,0)\n",
    "    return state"
   ]
  },
  {
   "cell_type": "code",
   "execution_count": 109,
   "metadata": {},
   "outputs": [
    {
     "data": {
      "text/plain": [
       "(10, 6, 0)"
      ]
     },
     "execution_count": 109,
     "metadata": {},
     "output_type": "execute_result"
    }
   ],
   "source": [
    "initGame()"
   ]
  },
  {
   "cell_type": "code",
   "execution_count": 230,
   "metadata": {},
   "outputs": [],
   "source": [
    "def makeMove(state,action):\n",
    "    dealer_sum,player_sum,done=state\n",
    "    \n",
    "   \n",
    "    if(action==1):\n",
    "         if(player_sum>0 and player_sum<=21):\n",
    "            done=0\n",
    "            new_card=random.randint(1,10)\n",
    "            if(random.random()>0.66):\n",
    "                player_sum=player_sum-new_card\n",
    "                if(player_sum<1):\n",
    "                    done=4\n",
    "            else :\n",
    "                player_sum=player_sum+new_card\n",
    "                if(player_sum>21):\n",
    "                    done=4\n",
    "         else :\n",
    "            done=4\n",
    "\n",
    "    if action==0:\n",
    "\n",
    "        while(dealer_sum<17):\n",
    "            new_card=random.randint(1,10)\n",
    "            if(random.random()>0.66):\n",
    "                dealer_sum=dealer_sum-new_card\n",
    "            else :\n",
    "                dealer_sum=dealer_sum+new_card\n",
    "        if(dealer_sum>21):\n",
    "            \n",
    "            done=2\n",
    "        elif dealer_sum>player_sum :\n",
    "            done=4\n",
    "    \n",
    "        elif(player_sum>dealer_sum):\n",
    "            \n",
    "            done=2\n",
    "        elif(player_sum==dealer_sum):\n",
    "            done=3\n",
    "   \n",
    "    state=(dealer_sum,player_sum,done)\n",
    "    \n",
    "    return state"
   ]
  },
  {
   "cell_type": "code",
   "execution_count": 231,
   "metadata": {},
   "outputs": [],
   "source": [
    "def get_reward(state):\n",
    "    dealer_sum,player_sum,done=state\n",
    "    return 3-done\n",
    "        \n",
    "    \n",
    "        \n",
    "    "
   ]
  },
  {
   "cell_type": "code",
   "execution_count": 208,
   "metadata": {},
   "outputs": [
    {
     "name": "stdout",
     "output_type": "stream",
     "text": [
      "(10, 1, 0)\n"
     ]
    }
   ],
   "source": [
    "start=initGame()\n",
    "print(start)"
   ]
  },
  {
   "cell_type": "code",
   "execution_count": 249,
   "metadata": {},
   "outputs": [
    {
     "ename": "TypeError",
     "evalue": "'int' object is not iterable",
     "output_type": "error",
     "traceback": [
      "\u001b[1;31m---------------------------------------------------------------------------\u001b[0m",
      "\u001b[1;31mTypeError\u001b[0m                                 Traceback (most recent call last)",
      "\u001b[1;32m<ipython-input-249-d4ce7f2e1b08>\u001b[0m in \u001b[0;36m<module>\u001b[1;34m()\u001b[0m\n\u001b[1;32m----> 1\u001b[1;33m \u001b[0mstart\u001b[0m\u001b[1;33m=\u001b[0m\u001b[0mmakeMove\u001b[0m\u001b[1;33m(\u001b[0m\u001b[1;36m1\u001b[0m\u001b[1;33m,\u001b[0m\u001b[0mstart\u001b[0m\u001b[1;33m)\u001b[0m\u001b[1;33m\u001b[0m\u001b[0m\n\u001b[0m\u001b[0;32m      2\u001b[0m \u001b[0mprint\u001b[0m\u001b[1;33m(\u001b[0m\u001b[0mstart\u001b[0m\u001b[1;33m)\u001b[0m\u001b[1;33m\u001b[0m\u001b[0m\n",
      "\u001b[1;32m<ipython-input-230-7d17c9f5b8e2>\u001b[0m in \u001b[0;36mmakeMove\u001b[1;34m(state, action)\u001b[0m\n\u001b[0;32m      1\u001b[0m \u001b[1;32mdef\u001b[0m \u001b[0mmakeMove\u001b[0m\u001b[1;33m(\u001b[0m\u001b[0mstate\u001b[0m\u001b[1;33m,\u001b[0m\u001b[0maction\u001b[0m\u001b[1;33m)\u001b[0m\u001b[1;33m:\u001b[0m\u001b[1;33m\u001b[0m\u001b[0m\n\u001b[1;32m----> 2\u001b[1;33m     \u001b[0mdealer_sum\u001b[0m\u001b[1;33m,\u001b[0m\u001b[0mplayer_sum\u001b[0m\u001b[1;33m,\u001b[0m\u001b[0mdone\u001b[0m\u001b[1;33m=\u001b[0m\u001b[0mstate\u001b[0m\u001b[1;33m\u001b[0m\u001b[0m\n\u001b[0m\u001b[0;32m      3\u001b[0m \u001b[1;33m\u001b[0m\u001b[0m\n\u001b[0;32m      4\u001b[0m \u001b[1;33m\u001b[0m\u001b[0m\n\u001b[0;32m      5\u001b[0m     \u001b[1;32mif\u001b[0m\u001b[1;33m(\u001b[0m\u001b[0maction\u001b[0m\u001b[1;33m==\u001b[0m\u001b[1;36m1\u001b[0m\u001b[1;33m)\u001b[0m\u001b[1;33m:\u001b[0m\u001b[1;33m\u001b[0m\u001b[0m\n",
      "\u001b[1;31mTypeError\u001b[0m: 'int' object is not iterable"
     ]
    }
   ],
   "source": [
    "start=makeMove(1,start)\n",
    "print(start)"
   ]
  },
  {
   "cell_type": "code",
   "execution_count": 211,
   "metadata": {},
   "outputs": [
    {
     "name": "stdout",
     "output_type": "stream",
     "text": [
      "-1\n"
     ]
    }
   ],
   "source": [
    "print(get_reward(start))"
   ]
  },
  {
   "cell_type": "code",
   "execution_count": 235,
   "metadata": {},
   "outputs": [],
   "source": [
    "def createStates():\n",
    "    states=[]\n",
    "    for i in range(1,11):\n",
    "        for j in range(1,21):\n",
    "            states.append((i,j))\n",
    "            \n",
    "    return states\n",
    "            "
   ]
  },
  {
   "cell_type": "code",
   "execution_count": 237,
   "metadata": {},
   "outputs": [],
   "source": [
    "def createTable(states):\n",
    "    av={}\n",
    "    for i in states:\n",
    "        av[(i,0)]=0\n",
    "        av[(i,1)]=0\n",
    "    return av"
   ]
  },
  {
   "cell_type": "code",
   "execution_count": 238,
   "metadata": {},
   "outputs": [],
   "source": [
    "def initSAcount(stateActions):\n",
    "    counts = {}\n",
    "    for sa in stateActions:\n",
    "        counts[sa] = 0\n",
    "    return counts"
   ]
  },
  {
   "cell_type": "code",
   "execution_count": 239,
   "metadata": {},
   "outputs": [],
   "source": [
    "def updateQtable(av_table, av_count, returns):\n",
    "    for key in returns:\n",
    "        av_table[key] = av_table[key] + (1.0 / av_count[key]) * (returns[key]- av_table[key])\n",
    "    return av_table\n",
    "    "
   ]
  },
  {
   "cell_type": "code",
   "execution_count": 240,
   "metadata": {},
   "outputs": [],
   "source": [
    "def qsv(state, av_table):\n",
    "    stay = av_table[(state,0)]\n",
    "    hit = av_table[(state,1)]\n",
    "    return np.array([stay, hit])"
   ]
  },
  {
   "cell_type": "code",
   "execution_count": 283,
   "metadata": {},
   "outputs": [],
   "source": [
    "\n",
    "eps=0.9\n",
    "epochs=1000000\n",
    "stateSpace=createStates()\n",
    "av=createTable(stateSpace)\n",
    "av_c=initSAcount(av)\n",
    "for i in range(epochs):\n",
    "\n",
    "\n",
    "    state=initGame()\n",
    "    dealer,player,done=state\n",
    "    state1=(dealer,player)\n",
    "    returns={}\n",
    "    while(state[2]==0):\n",
    "\n",
    "        if random.random()>1/(i+1):\n",
    "            a=np.argmax(qsv(state1,av))\n",
    "\n",
    "        else :\n",
    "            a=random.randint(0,1)\n",
    "        q_t=((state1,a))    \n",
    "        \n",
    "        state=makeMove(state,a)\n",
    "        \n",
    "\n",
    "        av_c[q_t]+=1\n",
    "        returns[q_t]=0\n",
    "\n",
    "    for key in returns:\n",
    "\n",
    "        returns[key]=get_reward(state)\n",
    "\n",
    "    av_table = updateQtable(av, av_c, returns)\n"
   ]
  },
  {
   "cell_type": "code",
   "execution_count": 98,
   "metadata": {},
   "outputs": [],
   "source": [
    "T=0\n",
    "T+=1"
   ]
  },
  {
   "cell_type": "code",
   "execution_count": 273,
   "metadata": {},
   "outputs": [
    {
     "data": {
      "text/plain": [
       "{((1, 1), 0): 0,\n",
       " ((1, 1), 1): 0,\n",
       " ((1, 2), 0): 0,\n",
       " ((1, 2), 1): 0,\n",
       " ((1, 3), 0): 0,\n",
       " ((1, 3), 1): 0,\n",
       " ((1, 4), 0): 0,\n",
       " ((1, 4), 1): 0,\n",
       " ((1, 5), 0): 0,\n",
       " ((1, 5), 1): 0,\n",
       " ((1, 6), 0): 0,\n",
       " ((1, 6), 1): 0,\n",
       " ((1, 7), 0): 0,\n",
       " ((1, 7), 1): 0,\n",
       " ((1, 8), 0): 0,\n",
       " ((1, 8), 1): 0,\n",
       " ((1, 9), 0): 0,\n",
       " ((1, 9), 1): 0,\n",
       " ((1, 10), 0): 0,\n",
       " ((1, 10), 1): 0,\n",
       " ((1, 11), 0): 0,\n",
       " ((1, 11), 1): 0,\n",
       " ((1, 12), 0): 0,\n",
       " ((1, 12), 1): 0,\n",
       " ((1, 13), 0): 0,\n",
       " ((1, 13), 1): 0,\n",
       " ((1, 14), 0): 0,\n",
       " ((1, 14), 1): 0,\n",
       " ((1, 15), 0): 0,\n",
       " ((1, 15), 1): 0,\n",
       " ((1, 16), 0): 0,\n",
       " ((1, 16), 1): 0,\n",
       " ((1, 17), 0): 0,\n",
       " ((1, 17), 1): 0,\n",
       " ((1, 18), 0): 0,\n",
       " ((1, 18), 1): 0,\n",
       " ((1, 19), 0): 0,\n",
       " ((1, 19), 1): 0,\n",
       " ((1, 20), 0): 0,\n",
       " ((1, 20), 1): 0,\n",
       " ((2, 1), 0): 0,\n",
       " ((2, 1), 1): 0,\n",
       " ((2, 2), 0): 0,\n",
       " ((2, 2), 1): 0,\n",
       " ((2, 3), 0): 0,\n",
       " ((2, 3), 1): 0,\n",
       " ((2, 4), 0): 0,\n",
       " ((2, 4), 1): 0,\n",
       " ((2, 5), 0): 0,\n",
       " ((2, 5), 1): 0,\n",
       " ((2, 6), 0): 0,\n",
       " ((2, 6), 1): 0,\n",
       " ((2, 7), 0): 0,\n",
       " ((2, 7), 1): 0,\n",
       " ((2, 8), 0): 0,\n",
       " ((2, 8), 1): 0,\n",
       " ((2, 9), 0): 0,\n",
       " ((2, 9), 1): 0,\n",
       " ((2, 10), 0): 0,\n",
       " ((2, 10), 1): 0,\n",
       " ((2, 11), 0): 0,\n",
       " ((2, 11), 1): 0,\n",
       " ((2, 12), 0): 0,\n",
       " ((2, 12), 1): 0,\n",
       " ((2, 13), 0): 0,\n",
       " ((2, 13), 1): 0,\n",
       " ((2, 14), 0): 0,\n",
       " ((2, 14), 1): 0,\n",
       " ((2, 15), 0): 0,\n",
       " ((2, 15), 1): 0,\n",
       " ((2, 16), 0): 0,\n",
       " ((2, 16), 1): 0,\n",
       " ((2, 17), 0): 0,\n",
       " ((2, 17), 1): 0,\n",
       " ((2, 18), 0): 0,\n",
       " ((2, 18), 1): 0,\n",
       " ((2, 19), 0): 0,\n",
       " ((2, 19), 1): 0,\n",
       " ((2, 20), 0): 0,\n",
       " ((2, 20), 1): 0,\n",
       " ((3, 1), 0): 0,\n",
       " ((3, 1), 1): 0,\n",
       " ((3, 2), 0): 0,\n",
       " ((3, 2), 1): 0,\n",
       " ((3, 3), 0): 0,\n",
       " ((3, 3), 1): 0,\n",
       " ((3, 4), 0): 0,\n",
       " ((3, 4), 1): 0,\n",
       " ((3, 5), 0): 0,\n",
       " ((3, 5), 1): 0,\n",
       " ((3, 6), 0): 0,\n",
       " ((3, 6), 1): 0,\n",
       " ((3, 7), 0): 1.0,\n",
       " ((3, 7), 1): 1.0,\n",
       " ((3, 8), 0): -1.0,\n",
       " ((3, 8), 1): 0,\n",
       " ((3, 9), 0): 0,\n",
       " ((3, 9), 1): 0,\n",
       " ((3, 10), 0): 0,\n",
       " ((3, 10), 1): 0,\n",
       " ((3, 11), 0): 0,\n",
       " ((3, 11), 1): 0,\n",
       " ((3, 12), 0): 0,\n",
       " ((3, 12), 1): 0,\n",
       " ((3, 13), 0): 0,\n",
       " ((3, 13), 1): 0,\n",
       " ((3, 14), 0): 0,\n",
       " ((3, 14), 1): 0,\n",
       " ((3, 15), 0): 0,\n",
       " ((3, 15), 1): 0,\n",
       " ((3, 16), 0): 0,\n",
       " ((3, 16), 1): 0,\n",
       " ((3, 17), 0): 0,\n",
       " ((3, 17), 1): 0,\n",
       " ((3, 18), 0): 0,\n",
       " ((3, 18), 1): 0,\n",
       " ((3, 19), 0): 0,\n",
       " ((3, 19), 1): 0,\n",
       " ((3, 20), 0): 0,\n",
       " ((3, 20), 1): 0,\n",
       " ((4, 1), 0): 0,\n",
       " ((4, 1), 1): 0,\n",
       " ((4, 2), 0): 0,\n",
       " ((4, 2), 1): 0,\n",
       " ((4, 3), 0): -1.0,\n",
       " ((4, 3), 1): 0,\n",
       " ((4, 4), 0): 0,\n",
       " ((4, 4), 1): 0,\n",
       " ((4, 5), 0): 0,\n",
       " ((4, 5), 1): 0,\n",
       " ((4, 6), 0): 0,\n",
       " ((4, 6), 1): 0,\n",
       " ((4, 7), 0): 0,\n",
       " ((4, 7), 1): 0,\n",
       " ((4, 8), 0): 1.0,\n",
       " ((4, 8), 1): 0,\n",
       " ((4, 9), 0): 0,\n",
       " ((4, 9), 1): 0,\n",
       " ((4, 10), 0): 0,\n",
       " ((4, 10), 1): 0,\n",
       " ((4, 11), 0): 0,\n",
       " ((4, 11), 1): 0,\n",
       " ((4, 12), 0): 0,\n",
       " ((4, 12), 1): 0,\n",
       " ((4, 13), 0): 0,\n",
       " ((4, 13), 1): 0,\n",
       " ((4, 14), 0): 0,\n",
       " ((4, 14), 1): 0,\n",
       " ((4, 15), 0): 0,\n",
       " ((4, 15), 1): 0,\n",
       " ((4, 16), 0): 0,\n",
       " ((4, 16), 1): 0,\n",
       " ((4, 17), 0): 0,\n",
       " ((4, 17), 1): 0,\n",
       " ((4, 18), 0): 0,\n",
       " ((4, 18), 1): 0,\n",
       " ((4, 19), 0): 0,\n",
       " ((4, 19), 1): 0,\n",
       " ((4, 20), 0): 0,\n",
       " ((4, 20), 1): 0,\n",
       " ((5, 1), 0): 0,\n",
       " ((5, 1), 1): 0,\n",
       " ((5, 2), 0): 0,\n",
       " ((5, 2), 1): -1.0,\n",
       " ((5, 3), 0): 0,\n",
       " ((5, 3), 1): 0,\n",
       " ((5, 4), 0): 0,\n",
       " ((5, 4), 1): 0,\n",
       " ((5, 5), 0): 0,\n",
       " ((5, 5), 1): 0,\n",
       " ((5, 6), 0): 0,\n",
       " ((5, 6), 1): 0,\n",
       " ((5, 7), 0): 0,\n",
       " ((5, 7), 1): 0,\n",
       " ((5, 8), 0): 0,\n",
       " ((5, 8), 1): 0,\n",
       " ((5, 9), 0): 0,\n",
       " ((5, 9), 1): 0,\n",
       " ((5, 10), 0): 0,\n",
       " ((5, 10), 1): 0,\n",
       " ((5, 11), 0): 0,\n",
       " ((5, 11), 1): 0,\n",
       " ((5, 12), 0): 0,\n",
       " ((5, 12), 1): 0,\n",
       " ((5, 13), 0): 0,\n",
       " ((5, 13), 1): 0,\n",
       " ((5, 14), 0): 0,\n",
       " ((5, 14), 1): 0,\n",
       " ((5, 15), 0): 0,\n",
       " ((5, 15), 1): 0,\n",
       " ((5, 16), 0): 0,\n",
       " ((5, 16), 1): 0,\n",
       " ((5, 17), 0): 0,\n",
       " ((5, 17), 1): 0,\n",
       " ((5, 18), 0): 0,\n",
       " ((5, 18), 1): 0,\n",
       " ((5, 19), 0): 0,\n",
       " ((5, 19), 1): 0,\n",
       " ((5, 20), 0): 0,\n",
       " ((5, 20), 1): 0,\n",
       " ((6, 1), 0): 0,\n",
       " ((6, 1), 1): 0,\n",
       " ((6, 2), 0): 0,\n",
       " ((6, 2), 1): 0,\n",
       " ((6, 3), 0): 0,\n",
       " ((6, 3), 1): 0,\n",
       " ((6, 4), 0): 0,\n",
       " ((6, 4), 1): 0,\n",
       " ((6, 5), 0): 0,\n",
       " ((6, 5), 1): 0,\n",
       " ((6, 6), 0): 0,\n",
       " ((6, 6), 1): 0,\n",
       " ((6, 7), 0): 0,\n",
       " ((6, 7), 1): 0,\n",
       " ((6, 8), 0): 0,\n",
       " ((6, 8), 1): 0,\n",
       " ((6, 9), 0): 0,\n",
       " ((6, 9), 1): 0,\n",
       " ((6, 10), 0): 0,\n",
       " ((6, 10), 1): 0,\n",
       " ((6, 11), 0): 0,\n",
       " ((6, 11), 1): 0,\n",
       " ((6, 12), 0): 0,\n",
       " ((6, 12), 1): 0,\n",
       " ((6, 13), 0): 0,\n",
       " ((6, 13), 1): 0,\n",
       " ((6, 14), 0): 0,\n",
       " ((6, 14), 1): 0,\n",
       " ((6, 15), 0): 0,\n",
       " ((6, 15), 1): 0,\n",
       " ((6, 16), 0): 0,\n",
       " ((6, 16), 1): 0,\n",
       " ((6, 17), 0): 0,\n",
       " ((6, 17), 1): 0,\n",
       " ((6, 18), 0): 0,\n",
       " ((6, 18), 1): 0,\n",
       " ((6, 19), 0): 0,\n",
       " ((6, 19), 1): 0,\n",
       " ((6, 20), 0): 0,\n",
       " ((6, 20), 1): 0,\n",
       " ((7, 1), 0): 0,\n",
       " ((7, 1), 1): 0,\n",
       " ((7, 2), 0): 0,\n",
       " ((7, 2), 1): 0,\n",
       " ((7, 3), 0): 0,\n",
       " ((7, 3), 1): 0,\n",
       " ((7, 4), 0): 0,\n",
       " ((7, 4), 1): 0,\n",
       " ((7, 5), 0): 0,\n",
       " ((7, 5), 1): 0,\n",
       " ((7, 6), 0): 0,\n",
       " ((7, 6), 1): 0,\n",
       " ((7, 7), 0): 0,\n",
       " ((7, 7), 1): 0,\n",
       " ((7, 8), 0): 0,\n",
       " ((7, 8), 1): 0,\n",
       " ((7, 9), 0): 0,\n",
       " ((7, 9), 1): 0,\n",
       " ((7, 10), 0): 0,\n",
       " ((7, 10), 1): 0,\n",
       " ((7, 11), 0): 0,\n",
       " ((7, 11), 1): 0,\n",
       " ((7, 12), 0): 0,\n",
       " ((7, 12), 1): 0,\n",
       " ((7, 13), 0): 0,\n",
       " ((7, 13), 1): 0,\n",
       " ((7, 14), 0): 0,\n",
       " ((7, 14), 1): 0,\n",
       " ((7, 15), 0): 0,\n",
       " ((7, 15), 1): 0,\n",
       " ((7, 16), 0): 0,\n",
       " ((7, 16), 1): 0,\n",
       " ((7, 17), 0): 0,\n",
       " ((7, 17), 1): 0,\n",
       " ((7, 18), 0): 0,\n",
       " ((7, 18), 1): 0,\n",
       " ((7, 19), 0): 0,\n",
       " ((7, 19), 1): 0,\n",
       " ((7, 20), 0): 0,\n",
       " ((7, 20), 1): 0,\n",
       " ((8, 1), 0): 0,\n",
       " ((8, 1), 1): 0,\n",
       " ((8, 2), 0): 1.0,\n",
       " ((8, 2), 1): 1.0,\n",
       " ((8, 3), 0): 0,\n",
       " ((8, 3), 1): 0,\n",
       " ((8, 4), 0): 0,\n",
       " ((8, 4), 1): 0,\n",
       " ((8, 5), 0): -1.0,\n",
       " ((8, 5), 1): -1.0,\n",
       " ((8, 6), 0): 0,\n",
       " ((8, 6), 1): 0,\n",
       " ((8, 7), 0): 0,\n",
       " ((8, 7), 1): 0,\n",
       " ((8, 8), 0): -1.0,\n",
       " ((8, 8), 1): 0,\n",
       " ((8, 9), 0): 0,\n",
       " ((8, 9), 1): 0,\n",
       " ((8, 10), 0): 0,\n",
       " ((8, 10), 1): 0,\n",
       " ((8, 11), 0): 0,\n",
       " ((8, 11), 1): 0,\n",
       " ((8, 12), 0): 0,\n",
       " ((8, 12), 1): 0,\n",
       " ((8, 13), 0): 0,\n",
       " ((8, 13), 1): 0,\n",
       " ((8, 14), 0): 0,\n",
       " ((8, 14), 1): 0,\n",
       " ((8, 15), 0): 0,\n",
       " ((8, 15), 1): 0,\n",
       " ((8, 16), 0): 0,\n",
       " ((8, 16), 1): 0,\n",
       " ((8, 17), 0): 0,\n",
       " ((8, 17), 1): 0,\n",
       " ((8, 18), 0): 0,\n",
       " ((8, 18), 1): 0,\n",
       " ((8, 19), 0): 0,\n",
       " ((8, 19), 1): 0,\n",
       " ((8, 20), 0): 0,\n",
       " ((8, 20), 1): 0,\n",
       " ((9, 1), 0): 0,\n",
       " ((9, 1), 1): 0,\n",
       " ((9, 2), 0): 0,\n",
       " ((9, 2), 1): 0,\n",
       " ((9, 3), 0): 0,\n",
       " ((9, 3), 1): 0,\n",
       " ((9, 4), 0): 0,\n",
       " ((9, 4), 1): 0,\n",
       " ((9, 5), 0): 0,\n",
       " ((9, 5), 1): 0,\n",
       " ((9, 6), 0): 0,\n",
       " ((9, 6), 1): 0,\n",
       " ((9, 7), 0): 0,\n",
       " ((9, 7), 1): 0,\n",
       " ((9, 8), 0): 0,\n",
       " ((9, 8), 1): 0,\n",
       " ((9, 9), 0): 0,\n",
       " ((9, 9), 1): 0,\n",
       " ((9, 10), 0): 0,\n",
       " ((9, 10), 1): 0,\n",
       " ((9, 11), 0): 0,\n",
       " ((9, 11), 1): 0,\n",
       " ((9, 12), 0): 0,\n",
       " ((9, 12), 1): 0,\n",
       " ((9, 13), 0): 0,\n",
       " ((9, 13), 1): 0,\n",
       " ((9, 14), 0): 0,\n",
       " ((9, 14), 1): 0,\n",
       " ((9, 15), 0): 0,\n",
       " ((9, 15), 1): 0,\n",
       " ((9, 16), 0): 0,\n",
       " ((9, 16), 1): 0,\n",
       " ((9, 17), 0): 0,\n",
       " ((9, 17), 1): 0,\n",
       " ((9, 18), 0): 0,\n",
       " ((9, 18), 1): 0,\n",
       " ((9, 19), 0): 0,\n",
       " ((9, 19), 1): 0,\n",
       " ((9, 20), 0): 0,\n",
       " ((9, 20), 1): 0,\n",
       " ((10, 1), 0): 0,\n",
       " ((10, 1), 1): 0,\n",
       " ((10, 2), 0): 0,\n",
       " ((10, 2), 1): 0,\n",
       " ((10, 3), 0): 0,\n",
       " ((10, 3), 1): 0,\n",
       " ((10, 4), 0): 0,\n",
       " ((10, 4), 1): 0,\n",
       " ((10, 5), 0): -1.0,\n",
       " ((10, 5), 1): -1.0,\n",
       " ((10, 6), 0): 0,\n",
       " ((10, 6), 1): 0,\n",
       " ((10, 7), 0): 0,\n",
       " ((10, 7), 1): 0,\n",
       " ((10, 8), 0): 0,\n",
       " ((10, 8), 1): 0,\n",
       " ((10, 9), 0): 0,\n",
       " ((10, 9), 1): 0,\n",
       " ((10, 10), 0): 1.0,\n",
       " ((10, 10), 1): 0,\n",
       " ((10, 11), 0): 0,\n",
       " ((10, 11), 1): 0,\n",
       " ((10, 12), 0): 0,\n",
       " ((10, 12), 1): 0,\n",
       " ((10, 13), 0): 0,\n",
       " ((10, 13), 1): 0,\n",
       " ((10, 14), 0): 0,\n",
       " ((10, 14), 1): 0,\n",
       " ((10, 15), 0): 0,\n",
       " ((10, 15), 1): 0,\n",
       " ((10, 16), 0): 0,\n",
       " ((10, 16), 1): 0,\n",
       " ((10, 17), 0): 0,\n",
       " ((10, 17), 1): 0,\n",
       " ((10, 18), 0): 0,\n",
       " ((10, 18), 1): 0,\n",
       " ((10, 19), 0): 0,\n",
       " ((10, 19), 1): 0,\n",
       " ((10, 20), 0): 0,\n",
       " ((10, 20), 1): 0}"
      ]
     },
     "execution_count": 273,
     "metadata": {},
     "output_type": "execute_result"
    }
   ],
   "source": [
    "av"
   ]
  },
  {
   "cell_type": "code",
   "execution_count": 284,
   "metadata": {},
   "outputs": [
    {
     "data": {
      "text/plain": [
       "<mpl_toolkits.mplot3d.art3d.Poly3DCollection at 0x1f5e0132208>"
      ]
     },
     "execution_count": 284,
     "metadata": {},
     "output_type": "execute_result"
    },
    {
     "data": {
      "image/png": "[encoded data removed]",
      "text/plain": [
       "<Figure size 576x432 with 1 Axes>"
      ]
     },
     "metadata": {},
     "output_type": "display_data"
    }
   ],
   "source": [
    "#3d plot of state-value space where no useable Aces are present\n",
    "import matplotlib.pyplot as plt\n",
    "from mpl_toolkits.mplot3d import Axes3D\n",
    "from matplotlib import cm\n",
    "%matplotlib inline\n",
    "fig = plt.figure(figsize=(8, 6))\n",
    "ax = fig.add_subplot(111, projection='3d', )\n",
    "\n",
    "ax.set_xlabel('Dealer card')\n",
    "ax.set_ylabel('Player sum')\n",
    "ax.set_zlabel('State-Value')\n",
    "\n",
    "x,y,z = [],[],[]\n",
    "for key in stateSpace:\n",
    "    if (key[0] > 1 and key[1] < 21):\n",
    "        y.append(key[1])\n",
    "        x.append(key[0])\n",
    "        state_value = max([av[(key, 0)], av[(key, 1)]])\n",
    "        z.append(state_value)\n",
    "ax.azim = 230\n",
    "ax.plot_trisurf(x,y,z, linewidth=.02, cmap=cm.jet)"
   ]
  },
  {
   "cell_type": "code",
   "execution_count": 282,
   "metadata": {},
   "outputs": [
    {
     "ename": "KeyError",
     "evalue": "((20, 5), 0)",
     "output_type": "error",
     "traceback": [
      "\u001b[1;31m---------------------------------------------------------------------------\u001b[0m",
      "\u001b[1;31mKeyError\u001b[0m                                  Traceback (most recent call last)",
      "\u001b[1;32m<ipython-input-282-f6fc74f0cf74>\u001b[0m in \u001b[0;36m<module>\u001b[1;34m()\u001b[0m\n\u001b[1;32m----> 1\u001b[1;33m \u001b[0mqsv\u001b[0m\u001b[1;33m(\u001b[0m\u001b[1;33m(\u001b[0m\u001b[1;36m20\u001b[0m\u001b[1;33m,\u001b[0m\u001b[1;36m5\u001b[0m\u001b[1;33m)\u001b[0m\u001b[1;33m,\u001b[0m\u001b[0mav\u001b[0m\u001b[1;33m)\u001b[0m\u001b[1;33m\u001b[0m\u001b[0m\n\u001b[0m",
      "\u001b[1;32m<ipython-input-240-e503a62184a9>\u001b[0m in \u001b[0;36mqsv\u001b[1;34m(state, av_table)\u001b[0m\n\u001b[0;32m      1\u001b[0m \u001b[1;32mdef\u001b[0m \u001b[0mqsv\u001b[0m\u001b[1;33m(\u001b[0m\u001b[0mstate\u001b[0m\u001b[1;33m,\u001b[0m \u001b[0mav_table\u001b[0m\u001b[1;33m)\u001b[0m\u001b[1;33m:\u001b[0m\u001b[1;33m\u001b[0m\u001b[0m\n\u001b[1;32m----> 2\u001b[1;33m     \u001b[0mstay\u001b[0m \u001b[1;33m=\u001b[0m \u001b[0mav_table\u001b[0m\u001b[1;33m[\u001b[0m\u001b[1;33m(\u001b[0m\u001b[0mstate\u001b[0m\u001b[1;33m,\u001b[0m\u001b[1;36m0\u001b[0m\u001b[1;33m)\u001b[0m\u001b[1;33m]\u001b[0m\u001b[1;33m\u001b[0m\u001b[0m\n\u001b[0m\u001b[0;32m      3\u001b[0m     \u001b[0mhit\u001b[0m \u001b[1;33m=\u001b[0m \u001b[0mav_table\u001b[0m\u001b[1;33m[\u001b[0m\u001b[1;33m(\u001b[0m\u001b[0mstate\u001b[0m\u001b[1;33m,\u001b[0m\u001b[1;36m1\u001b[0m\u001b[1;33m)\u001b[0m\u001b[1;33m]\u001b[0m\u001b[1;33m\u001b[0m\u001b[0m\n\u001b[0;32m      4\u001b[0m     \u001b[1;32mreturn\u001b[0m \u001b[0mnp\u001b[0m\u001b[1;33m.\u001b[0m\u001b[0marray\u001b[0m\u001b[1;33m(\u001b[0m\u001b[1;33m[\u001b[0m\u001b[0mstay\u001b[0m\u001b[1;33m,\u001b[0m \u001b[0mhit\u001b[0m\u001b[1;33m]\u001b[0m\u001b[1;33m)\u001b[0m\u001b[1;33m\u001b[0m\u001b[0m\n",
      "\u001b[1;31mKeyError\u001b[0m: ((20, 5), 0)"
     ]
    }
   ],
   "source": [
    "qsv((20,5),av)"
   ]
  },
  {
   "cell_type": "code",
   "execution_count": 259,
   "metadata": {},
   "outputs": [
    {
     "data": {
      "text/plain": [
       "[]"
      ]
     },
     "execution_count": 259,
     "metadata": {},
     "output_type": "execute_result"
    }
   ],
   "source": [
    "y"
   ]
  },
  {
   "cell_type": "code",
   "execution_count": 260,
   "metadata": {},
   "outputs": [
    {
     "data": {
      "text/plain": [
       "[]"
      ]
     },
     "execution_count": 260,
     "metadata": {},
     "output_type": "execute_result"
    }
   ],
   "source": [
    "z"
   ]
  },
  {
   "cell_type": "code",
   "execution_count": null,
   "metadata": {},
   "outputs": [],
   "source": []
  }
 ],
 "metadata": {
  "kernelspec": {
   "display_name": "Python 3",
   "language": "python",
   "name": "python3"
  },
  "language_info": {
   "codemirror_mode": {
    "name": "ipython",
    "version": 3
   },
   "file_extension": ".py",
   "mimetype": "text/x-python",
   "name": "python",
   "nbconvert_exporter": "python",
   "pygments_lexer": "ipython3",
   "version": "3.6.5"
  }
 },
 "nbformat": 4,
 "nbformat_minor": 2
}
