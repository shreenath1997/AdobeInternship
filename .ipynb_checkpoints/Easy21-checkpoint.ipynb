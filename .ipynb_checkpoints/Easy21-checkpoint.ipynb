{
 "cells": [
  {
   "cell_type": "code",
   "execution_count": 1,
   "metadata": {},
   "outputs": [],
   "source": [
    "import numpy as np"
   ]
  },
  {
   "cell_type": "code",
   "execution_count": 9,
   "metadata": {},
   "outputs": [
    {
     "ename": "ModuleNotFoundError",
     "evalue": "No module named 'Random'",
     "output_type": "error",
     "traceback": [
      "\u001b[1;31m---------------------------------------------------------------------------\u001b[0m",
      "\u001b[1;31mModuleNotFoundError\u001b[0m                       Traceback (most recent call last)",
      "\u001b[1;32m<ipython-input-9-9078982925bf>\u001b[0m in \u001b[0;36m<module>\u001b[1;34m()\u001b[0m\n\u001b[1;32m----> 1\u001b[1;33m \u001b[1;32mimport\u001b[0m \u001b[0mRandom\u001b[0m\u001b[1;33m\u001b[0m\u001b[0m\n\u001b[0m",
      "\u001b[1;31mModuleNotFoundError\u001b[0m: No module named 'Random'"
     ]
    }
   ],
   "source": [
    "import random"
   ]
  },
  {
   "cell_type": "code",
   "execution_count": 108,
   "metadata": {},
   "outputs": [],
   "source": [
    "def initGame ():\n",
    "    dealer_sum=random.randint(1,10)\n",
    "    player_sum=random.randint(1,10)\n",
    "    state=(dealer_sum,player_sum,0)\n",
    "    return state"
   ]
  },
  {
   "cell_type": "code",
   "execution_count": 109,
   "metadata": {},
   "outputs": [
    {
     "data": {
      "text/plain": [
       "(10, 6, 0)"
      ]
     },
     "execution_count": 109,
     "metadata": {},
     "output_type": "execute_result"
    }
   ],
   "source": [
    "initGame()"
   ]
  },
  {
   "cell_type": "code",
   "execution_count": 206,
   "metadata": {},
   "outputs": [],
   "source": [
    "def makeMove(state,action):\n",
    "    dealer_sum,player_sum,done=state\n",
    "    \n",
    "   \n",
    "    if(action==1):\n",
    "         if(player_sum>0 and player_sum<=21):\n",
    "            done=0\n",
    "            new_card=random.randint(1,10)\n",
    "            if(random.random()>0.66):\n",
    "                player_sum=player_sum-new_card\n",
    "                if(player_sum<1):\n",
    "                    done=4\n",
    "            else :\n",
    "                player_sum=player_sum+new_card\n",
    "                if(player_sum>21):\n",
    "                    done=4\n",
    "         else :\n",
    "            done=4\n",
    "\n",
    "    if action==0:\n",
    "\n",
    "        while(dealer_sum<17):\n",
    "            new_card=random.randint(1,10)\n",
    "            if(random.random()>0.66):\n",
    "                dealer_sum=dealer_sum-new_card\n",
    "            else :\n",
    "                dealer_sum=dealer_sum+new_card\n",
    "        if(dealer_sum>21):\n",
    "            \n",
    "            done=2\n",
    "        elif dealer_sum>player_sum :\n",
    "            done=4\n",
    "    \n",
    "        elif(player_sum>dealer_sum):\n",
    "            \n",
    "            done=2\n",
    "        elif(player_sum==dealer_sum):\n",
    "            done=3\n",
    "   \n",
    "    state=(dealer_sum,player_sum,done)\n",
    "    \n",
    "    return state"
   ]
  },
  {
   "cell_type": "code",
   "execution_count": 207,
   "metadata": {},
   "outputs": [],
   "source": [
    "def get_reward(state):\n",
    "    dealer_sum,player_sum,done=state\n",
    "    return 3-done\n",
    "        \n",
    "    \n",
    "        \n",
    "    "
   ]
  },
  {
   "cell_type": "code",
   "execution_count": 208,
   "metadata": {},
   "outputs": [
    {
     "name": "stdout",
     "output_type": "stream",
     "text": [
      "(10, 1, 0)\n"
     ]
    }
   ],
   "source": [
    "start=initGame()\n",
    "print(start)"
   ]
  },
  {
   "cell_type": "code",
   "execution_count": 209,
   "metadata": {},
   "outputs": [
    {
     "name": "stdout",
     "output_type": "stream",
     "text": [
      "(10, -7, 4)\n"
     ]
    }
   ],
   "source": [
    "start=makeMove(1,start)\n",
    "print(start)"
   ]
  },
  {
   "cell_type": "code",
   "execution_count": 211,
   "metadata": {},
   "outputs": [
    {
     "name": "stdout",
     "output_type": "stream",
     "text": [
      "-1\n"
     ]
    }
   ],
   "source": [
    "print(get_reward(start))"
   ]
  },
  {
   "cell_type": "code",
   "execution_count": 223,
   "metadata": {},
   "outputs": [],
   "source": [
    "def createStates():\n",
    "    states=[]\n",
    "    for i in (1,11):\n",
    "        for j in (1,21):\n",
    "            states.append((i,j))\n",
    "            \n",
    "    return states\n",
    "            "
   ]
  },
  {
   "cell_type": "code",
   "execution_count": 224,
   "metadata": {},
   "outputs": [],
   "source": [
    "def createTable(states):\n",
    "    av={}\n",
    "    for i in states:\n",
    "        av[(i,0)]=0\n",
    "        av[(i,1)]=0\n",
    "    return av"
   ]
  },
  {
   "cell_type": "code",
   "execution_count": 225,
   "metadata": {},
   "outputs": [],
   "source": [
    "def initSAcount(stateActions):\n",
    "    counts = {}\n",
    "    for sa in stateActions:\n",
    "        counts[sa] = 0\n",
    "    return counts"
   ]
  },
  {
   "cell_type": "code",
   "execution_count": 226,
   "metadata": {},
   "outputs": [],
   "source": [
    "def updateQtable(av_table, av_count, returns):\n",
    "    for key in returns:\n",
    "        av_table[key] = av_table[key] + (1.0 / av_count[key]) * (returns[key]- av_table[key])\n",
    "    return av_table\n",
    "    "
   ]
  },
  {
   "cell_type": "code",
   "execution_count": 227,
   "metadata": {},
   "outputs": [],
   "source": [
    "def qsv(state, av_table):\n",
    "    stay = av_table[(state,0)]\n",
    "    hit = av_table[(state,1)]\n",
    "    return np.array([stay, hit])"
   ]
  },
  {
   "cell_type": "code",
   "execution_count": 229,
   "metadata": {},
   "outputs": [
    {
     "ename": "KeyError",
     "evalue": "((8, 7, 0), 0)",
     "output_type": "error",
     "traceback": [
      "\u001b[1;31m---------------------------------------------------------------------------\u001b[0m",
      "\u001b[1;31mKeyError\u001b[0m                                  Traceback (most recent call last)",
      "\u001b[1;32m<ipython-input-229-52e62f042f21>\u001b[0m in \u001b[0;36m<module>\u001b[1;34m()\u001b[0m\n\u001b[0;32m     12\u001b[0m         \u001b[0mreturns\u001b[0m\u001b[1;33m=\u001b[0m\u001b[1;33m{\u001b[0m\u001b[1;33m}\u001b[0m\u001b[1;33m\u001b[0m\u001b[0m\n\u001b[0;32m     13\u001b[0m         \u001b[1;32mif\u001b[0m \u001b[0mrandom\u001b[0m\u001b[1;33m.\u001b[0m\u001b[0mrandom\u001b[0m\u001b[1;33m(\u001b[0m\u001b[1;33m)\u001b[0m\u001b[1;33m>\u001b[0m\u001b[0meps\u001b[0m\u001b[1;33m:\u001b[0m\u001b[1;33m\u001b[0m\u001b[0m\n\u001b[1;32m---> 14\u001b[1;33m             \u001b[0ma\u001b[0m\u001b[1;33m=\u001b[0m\u001b[0mnp\u001b[0m\u001b[1;33m.\u001b[0m\u001b[0mmax\u001b[0m\u001b[1;33m(\u001b[0m\u001b[0mqsv\u001b[0m\u001b[1;33m(\u001b[0m\u001b[0mstate\u001b[0m\u001b[1;33m,\u001b[0m\u001b[0mav\u001b[0m\u001b[1;33m)\u001b[0m\u001b[1;33m)\u001b[0m\u001b[1;33m\u001b[0m\u001b[0m\n\u001b[0m\u001b[0;32m     15\u001b[0m         \u001b[1;32melse\u001b[0m \u001b[1;33m:\u001b[0m\u001b[1;33m\u001b[0m\u001b[0m\n\u001b[0;32m     16\u001b[0m             \u001b[0ma\u001b[0m\u001b[1;33m=\u001b[0m\u001b[0mrandom\u001b[0m\u001b[1;33m.\u001b[0m\u001b[0mrandint\u001b[0m\u001b[1;33m(\u001b[0m\u001b[1;36m0\u001b[0m\u001b[1;33m,\u001b[0m\u001b[1;36m1\u001b[0m\u001b[1;33m)\u001b[0m\u001b[1;33m\u001b[0m\u001b[0m\n",
      "\u001b[1;32m<ipython-input-227-e503a62184a9>\u001b[0m in \u001b[0;36mqsv\u001b[1;34m(state, av_table)\u001b[0m\n\u001b[0;32m      1\u001b[0m \u001b[1;32mdef\u001b[0m \u001b[0mqsv\u001b[0m\u001b[1;33m(\u001b[0m\u001b[0mstate\u001b[0m\u001b[1;33m,\u001b[0m \u001b[0mav_table\u001b[0m\u001b[1;33m)\u001b[0m\u001b[1;33m:\u001b[0m\u001b[1;33m\u001b[0m\u001b[0m\n\u001b[1;32m----> 2\u001b[1;33m     \u001b[0mstay\u001b[0m \u001b[1;33m=\u001b[0m \u001b[0mav_table\u001b[0m\u001b[1;33m[\u001b[0m\u001b[1;33m(\u001b[0m\u001b[0mstate\u001b[0m\u001b[1;33m,\u001b[0m\u001b[1;36m0\u001b[0m\u001b[1;33m)\u001b[0m\u001b[1;33m]\u001b[0m\u001b[1;33m\u001b[0m\u001b[0m\n\u001b[0m\u001b[0;32m      3\u001b[0m     \u001b[0mhit\u001b[0m \u001b[1;33m=\u001b[0m \u001b[0mav_table\u001b[0m\u001b[1;33m[\u001b[0m\u001b[1;33m(\u001b[0m\u001b[0mstate\u001b[0m\u001b[1;33m,\u001b[0m\u001b[1;36m1\u001b[0m\u001b[1;33m)\u001b[0m\u001b[1;33m]\u001b[0m\u001b[1;33m\u001b[0m\u001b[0m\n\u001b[0;32m      4\u001b[0m     \u001b[1;32mreturn\u001b[0m \u001b[0mnp\u001b[0m\u001b[1;33m.\u001b[0m\u001b[0marray\u001b[0m\u001b[1;33m(\u001b[0m\u001b[1;33m[\u001b[0m\u001b[0mstay\u001b[0m\u001b[1;33m,\u001b[0m \u001b[0mhit\u001b[0m\u001b[1;33m]\u001b[0m\u001b[1;33m)\u001b[0m\u001b[1;33m\u001b[0m\u001b[0m\n",
      "\u001b[1;31mKeyError\u001b[0m: ((8, 7, 0), 0)"
     ]
    }
   ],
   "source": [
    "eps=0.1\n",
    "epochs=1000\n",
    "stateSpace=createStates()\n",
    "av=createTable(stateSpace)\n",
    "av_c=initSAcount(av)\n",
    "for i in range(epochs):\n",
    "    \n",
    "    \n",
    "    state=initGame()\n",
    "    dealer,player,done=state\n",
    "    while(done==0):\n",
    "        returns={}\n",
    "        if random.random()>eps:\n",
    "            a=np.max(qsv(state,av))\n",
    "        else :\n",
    "            a=random.randint(0,1)\n",
    "        q_t=((state,a))    \n",
    "        state=makeMove(a,state)\n",
    "\n",
    "        av_c[q_t]+=1\n",
    "        returns[q_t]=0\n",
    "    \n",
    "    for key in returns:\n",
    "        returns[key]=get_reward(state)\n",
    "    av_table = updateQtable(av, av_c, returns)\n",
    "        "
   ]
  },
  {
   "cell_type": "code",
   "execution_count": 98,
   "metadata": {},
   "outputs": [],
   "source": [
    "T=0\n",
    "T+=1"
   ]
  },
  {
   "cell_type": "code",
   "execution_count": 99,
   "metadata": {},
   "outputs": [
    {
     "data": {
      "text/plain": [
       "1"
      ]
     },
     "execution_count": 99,
     "metadata": {},
     "output_type": "execute_result"
    }
   ],
   "source": [
    "T"
   ]
  },
  {
   "cell_type": "code",
   "execution_count": null,
   "metadata": {},
   "outputs": [],
   "source": []
  }
 ],
 "metadata": {
  "kernelspec": {
   "display_name": "Python 3",
   "language": "python",
   "name": "python3"
  },
  "language_info": {
   "codemirror_mode": {
    "name": "ipython",
    "version": 3
   },
   "file_extension": ".py",
   "mimetype": "text/x-python",
   "name": "python",
   "nbconvert_exporter": "python",
   "pygments_lexer": "ipython3",
   "version": "3.6.5"
  }
 },
 "nbformat": 4,
 "nbformat_minor": 2
}
